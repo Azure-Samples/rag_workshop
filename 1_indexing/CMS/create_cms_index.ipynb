{
 "cells": [
  {
   "cell_type": "markdown",
   "metadata": {},
   "source": [
    "## Import libraries, load configuration variables and create clients"
   ]
  },
  {
   "cell_type": "code",
   "execution_count": null,
   "metadata": {},
   "outputs": [],
   "source": [
    "#%pip install azure-ai-documentintelligence\n",
    "#%pip install langchain\n",
    "#%pip install python-dotenv\n",
    "#%pip install tiktoken\n",
    "#%pip install openai\n",
    "#%pip install azure-search-documents\n",
    "#%pip install pg8000"
   ]
  },
  {
   "cell_type": "code",
   "execution_count": 1,
   "metadata": {},
   "outputs": [
    {
     "name": "stdout",
     "output_type": "stream",
     "text": [
      "aoai_endpoint: https://openai-asc-swit-north.openai.azure.com/\n",
      "aoai_deployment_name: gpt-4o\n",
      "oai_embedding_model: ada\n",
      "aoai_rerank_model: gpt-4o-mini\n",
      "ai_search_index_name_regs: rag-index-regs\n",
      "ai_search_index_name_docs: rag-index-docs\n",
      "doc_intel_endpoint: https://doc-intel-asc.cognitiveservices.azure.com/\n"
     ]
    }
   ],
   "source": [
    "# Import libraries\n",
    "import os\n",
    "import sys\n",
    "import requests\n",
    "import json\n",
    "import time\n",
    "import pandas as pd\n",
    "\n",
    "from azure.ai.documentintelligence import DocumentIntelligenceClient\n",
    "from azure.ai.documentintelligence.models import DocumentContentFormat\n",
    "from langchain.text_splitter import TokenTextSplitter\n",
    "\n",
    "sys.path.append(os.path.abspath('../..'))\n",
    "from common_utils import *\n",
    "\n",
    "# Load Azure OpenAI and AI Search variables and create clients\n",
    "openai_config, ai_search_config = load_config()\n",
    "\n",
    "# Load Document Intelligence configuration\n",
    "doc_intel_endpoint = os.getenv(\"DOC_INTEL_ENDPOINT\")\n",
    "doc_intel_key = os.getenv(\"DOC_INTEL_KEY\")\n",
    "doc_intel_client = DocumentIntelligenceClient(endpoint=doc_intel_endpoint, credential=AzureKeyCredential(doc_intel_key))\n",
    "print(f'doc_intel_endpoint: {doc_intel_endpoint}')\n",
    "\n",
    "MAX_TOKENS = 512\n",
    "OVERLAP_TOKENS = 128 # 25% of 512 tokens is 128 tokens"
   ]
  },
  {
   "cell_type": "code",
   "execution_count": 2,
   "metadata": {},
   "outputs": [],
   "source": [
    "# Create AI Search index\n",
    "def create_index(index_name):\n",
    "    # Create an Azure AI Search index client\n",
    "    index_client = SearchIndexClient(endpoint=ai_search_config[\"ai_search_endpoint\"], credential=ai_search_config[\"ai_search_credential\"])\n",
    "    \n",
    "    # Fields definition\n",
    "    fields = [\n",
    "        SimpleField(name=\"doc_id\", type=SearchFieldDataType.String, filterable=True),\n",
    "        SimpleField(name=\"chunk_id\", type=SearchFieldDataType.String, key=True, sortable=True, filterable=True, facetable=True),\n",
    "        SearchableField(name=\"title\", type=SearchFieldDataType.String), #analyzer=\"es.microsoft\"),\n",
    "        SearchableField(name=\"content\", type=SearchFieldDataType.String), #analyzer=\"es.microsoft\"),\n",
    "        SearchableField(name=\"description\", type=SearchFieldDataType.String), #analyzer=\"es.microsoft\"),\n",
    "        SearchableField(name=\"author\", type=SearchFieldDataType.String), #analyzer=\"es.microsoft\"),\n",
    "        SearchableField(name=\"content_id\", type=SearchFieldDataType.String), #analyzer=\"es.microsoft\"),\n",
    "        SearchableField(name=\"creation_date\", type=SearchFieldDataType.String), #analyzer=\"es.microsoft\"),\n",
    "        SearchableField(name=\"update_date\", type=SearchFieldDataType.String), #analyzer=\"es.microsoft\"),\n",
    "        SearchField(name=\"embeddingTitle\", type=SearchFieldDataType.Collection(SearchFieldDataType.Single),\n",
    "                    searchable=True, vector_search_dimensions=EMBEDDINGS_DIMENSIONS, vector_search_profile_name=\"myHnswProfile\"),\n",
    "        SearchField(name=\"embeddingContent\", type=SearchFieldDataType.Collection(SearchFieldDataType.Single),\n",
    "                    searchable=True, vector_search_dimensions=EMBEDDINGS_DIMENSIONS, vector_search_profile_name=\"myHnswProfile\")\n",
    "    ]\n",
    "\n",
    "    # Configure the vector search configuration\n",
    "    vector_search = VectorSearch(\n",
    "        algorithms=[\n",
    "            HnswAlgorithmConfiguration(\n",
    "                name=\"myHnsw\",\n",
    "                kind=VectorSearchAlgorithmKind.HNSW,\n",
    "                parameters=HnswParameters(\n",
    "                    m=4,\n",
    "                    ef_construction=400,\n",
    "                    ef_search=500,\n",
    "                    metric=VectorSearchAlgorithmMetric.COSINE\n",
    "                )\n",
    "            )\n",
    "        ],\n",
    "        profiles=[\n",
    "            VectorSearchProfile(\n",
    "                name=\"myHnswProfile\",\n",
    "                algorithm_configuration_name=\"myHnsw\",\n",
    "            )\n",
    "        ]\n",
    "    )\n",
    "\n",
    "    # Semantic ranker configuration\n",
    "    semantic_config = SemanticConfiguration(\n",
    "        name=\"semantic-config\",\n",
    "        prioritized_fields=SemanticPrioritizedFields(\n",
    "            title_field=SemanticField(field_name=\"title\"),\n",
    "            content_fields=[SemanticField(field_name=\"description\"), SemanticField(field_name=\"content\")]\n",
    "        )\n",
    "    )\n",
    "\n",
    "    # Create the semantic settings with the configuration\n",
    "    semantic_search = SemanticSearch(configurations=[semantic_config])\n",
    "\n",
    "    # Create the search index with the semantic settings\n",
    "    index = SearchIndex(name=index_name, fields=fields, vector_search=vector_search, semantic_search=semantic_search)\n",
    "    result = index_client.create_or_update_index(index)\n",
    "    print(f\"Index '{result.name}' created\")\n",
    "\n",
    "\n"
   ]
  },
  {
   "cell_type": "code",
   "execution_count": 3,
   "metadata": {},
   "outputs": [
    {
     "name": "stdout",
     "output_type": "stream",
     "text": [
      "Index 'cms_index' created\n"
     ]
    }
   ],
   "source": [
    "# Create the index\n",
    "create_index(\"cms_index\")"
   ]
  }
 ],
 "metadata": {
  "kernelspec": {
   "display_name": "Python 3",
   "language": "python",
   "name": "python3"
  },
  "language_info": {
   "codemirror_mode": {
    "name": "ipython",
    "version": 3
   },
   "file_extension": ".py",
   "mimetype": "text/x-python",
   "name": "python",
   "nbconvert_exporter": "python",
   "pygments_lexer": "ipython3",
   "version": "3.12.10"
  }
 },
 "nbformat": 4,
 "nbformat_minor": 2
}
