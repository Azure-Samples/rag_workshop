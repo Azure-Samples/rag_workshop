{
 "cells": [
  {
   "cell_type": "code",
   "execution_count": null,
   "id": "e94cee44",
   "metadata": {},
   "outputs": [],
   "source": [
    "%pip install azure-storage-blob"
   ]
  },
  {
   "cell_type": "code",
   "execution_count": null,
   "id": "1cc0fbfe",
   "metadata": {},
   "outputs": [
    {
     "name": "stdout",
     "output_type": "stream",
     "text": [
      "blob_list: <iterator object azure.core.paging.ItemPaged at 0x20cd6950b00>\n",
      "Downloading Datenschutzmerkblatt_V3.5_WAS.pdf to ./downloaded_files\\Datenschutzmerkblatt_V3.5_WAS.pdf...\n",
      "Downloading LB_WAS.pdf to ./downloaded_files\\LB_WAS.pdf...\n",
      "Downloading Premium_Voice.pdf to ./downloaded_files\\Premium_Voice.pdf...\n",
      "Downloading aktivitaetszeitfenster.pdf to ./downloaded_files\\aktivitaetszeitfenster.pdf...\n",
      "Downloading datenschutzmerkblatt.pdf to ./downloaded_files\\datenschutzmerkblatt.pdf...\n",
      "Downloading guthaben-aufladen.pdf to ./downloaded_files\\guthaben-aufladen.pdf...\n",
      "Downloading mailbox.pdf to ./downloaded_files\\mailbox.pdf...\n",
      "Downloading pflichtinformationen.pdf to ./downloaded_files\\pflichtinformationen.pdf...\n",
      "Downloading pib20211129.pdf to ./downloaded_files\\pib20211129.pdf...\n",
      "Downloading pip202212.pdf to ./downloaded_files\\pip202212.pdf...\n",
      "Downloading portierungserklaerung-april-2022.pdf to ./downloaded_files\\portierungserklaerung-april-2022.pdf...\n",
      "Downloading preisliste-international.pdf to ./downloaded_files\\preisliste-international.pdf...\n",
      "Downloading preisliste-roaming.pdf to ./downloaded_files\\preisliste-roaming.pdf...\n",
      "Downloading preisliste.pdf to ./downloaded_files\\preisliste.pdf...\n",
      "Downloading preisliste_sondernummern.pdf to ./downloaded_files\\preisliste_sondernummern.pdf...\n",
      "Downloading produktinformationsblatt1.pdf to ./downloaded_files\\produktinformationsblatt1.pdf...\n",
      "Downloading roaming-ausland.pdf to ./downloaded_files\\roaming-ausland.pdf...\n",
      "Downloading rufnummernmitnahme.pdf to ./downloaded_files\\rufnummernmitnahme.pdf...\n",
      "Downloading sicherheit.pdf to ./downloaded_files\\sicherheit.pdf...\n",
      "Downloading sim-karten-produktinformationen.pdf to ./downloaded_files\\sim-karten-produktinformationen.pdf...\n",
      "Downloading whatsapp-sim-agb.pdf to ./downloaded_files\\whatsapp-sim-agb.pdf...\n",
      "Downloading whatsapp-sim-guthabenauszahlung.pdf to ./downloaded_files\\whatsapp-sim-guthabenauszahlung.pdf...\n",
      "Downloading whatsapp-sim-rufnummernmitnahme-formular.pdf to ./downloaded_files\\whatsapp-sim-rufnummernmitnahme-formular.pdf...\n",
      "All files have been downloaded to ./downloaded_files.\n"
     ]
    }
   ],
   "source": [
    "from azure.storage.blob import BlobServiceClient\n",
    "import os\n",
    "from dotenv import load_dotenv, find_dotenv\n",
    "\n",
    "load_dotenv(find_dotenv(), override=True)\n",
    "\n",
    "# Cadena de conexión de la cuenta de almacenamiento de Azure\n",
    "connection_string = os.getenv(\"BLOB_CONNECTION_STRING\")\n",
    "\n",
    "# Nombre del contenedor\n",
    "container_name = \"test\"\n",
    "\n",
    "# Directorio local para guardar los archivos descargados\n",
    "local_directory = \"./downloaded_files\"\n",
    "\n",
    "# Crear el directorio local\n",
    "os.makedirs(local_directory, exist_ok=True)\n",
    "\n",
    "# Crear un BlobServiceClient\n",
    "blob_service_client = BlobServiceClient.from_connection_string(connection_string)\n",
    "\n",
    "# Obtener el cliente del contenedor\n",
    "container_client = blob_service_client.get_container_client(container_name)\n",
    "\n",
    "# Listar todos los blobs en el contenedor\n",
    "blob_list = container_client.list_blobs()\n",
    "\n",
    "# Descargar cada blob al directorio local\n",
    "for blob in blob_list:\n",
    "    blob_client = container_client.get_blob_client(blob.name)\n",
    "    download_file_path = os.path.join(local_directory, blob.name)\n",
    "    print(f\"Downloading {blob.name} to {download_file_path}...\")\n",
    "    # Descargar el blob\n",
    "    with open(download_file_path, \"wb\") as download_file:\n",
    "        download_file.write(blob_client.download_blob().readall())\n",
    "\n",
    "print(f\"All files have been downloaded to {local_directory}.\")\n"
   ]
  }
 ],
 "metadata": {
  "kernelspec": {
   "display_name": "Python 3",
   "language": "python",
   "name": "python3"
  },
  "language_info": {
   "codemirror_mode": {
    "name": "ipython",
    "version": 3
   },
   "file_extension": ".py",
   "mimetype": "text/x-python",
   "name": "python",
   "nbconvert_exporter": "python",
   "pygments_lexer": "ipython3",
   "version": "3.12.10"
  }
 },
 "nbformat": 4,
 "nbformat_minor": 5
}
