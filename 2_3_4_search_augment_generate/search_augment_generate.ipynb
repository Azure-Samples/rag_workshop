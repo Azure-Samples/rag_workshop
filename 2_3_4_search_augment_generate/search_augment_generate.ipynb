{
 "cells": [
  {
   "cell_type": "markdown",
   "metadata": {},
   "source": [
    "# Phase 2, 3 and 4: Search, Augment and Generate the Answer\n",
    "In this notebook there are several parts:\n",
    "- Import libraries, load configuration variables and create clients\n",
    "- Hybrid search with Semantic ranker\n",
    "- Filter the chunks leaving the most relevant compared with the user's question\n",
    "- Generate the answer for the query using the most relevante chunks as the context"
   ]
  },
  {
   "cell_type": "markdown",
   "metadata": {},
   "source": [
    "### Import libraries, load configuration variables and create clients"
   ]
  },
  {
   "cell_type": "code",
   "execution_count": null,
   "metadata": {},
   "outputs": [],
   "source": [
    "#%pip install python-dotenv\n",
    "#%pip install openai\n",
    "#%pip install tiktoken\n",
    "#%pip install azure-search-documents"
   ]
  },
  {
   "cell_type": "code",
   "execution_count": 2,
   "metadata": {},
   "outputs": [
    {
     "name": "stdout",
     "output_type": "stream",
     "text": [
      "aoai_endpoint: https://openai-asc-swit-north.openai.azure.com/\n",
      "aoai_deployment_name: gpt-4o\n",
      "oai_embedding_model: ada\n",
      "aoai_rerank_model: gpt-4o-mini\n",
      "ai_search_index_name_regs: rag-index-regs2\n",
      "ai_search_index_name_docs: rag-index-docs2\n"
     ]
    }
   ],
   "source": [
    "# Import libraries\n",
    "import os\n",
    "import sys\n",
    "import json\n",
    "import time\n",
    "import pandas as pd\n",
    "from dotenv import load_dotenv, find_dotenv\n",
    "from openai import AzureOpenAI\n",
    "\n",
    "sys.path.append(os.path.abspath('..'))\n",
    "from common_utils import *\n",
    "\n",
    "# Load Azure OpenAI and AI Search variables and create clients\n",
    "openai_config, ai_search_config = load_config()\n"
   ]
  },
  {
   "cell_type": "markdown",
   "metadata": {},
   "source": [
    "### Search in AI Search with hybrid (keyword and vector searches) with semantic ranker"
   ]
  },
  {
   "cell_type": "code",
   "execution_count": 3,
   "metadata": {},
   "outputs": [
    {
     "name": "stdout",
     "output_type": "stream",
     "text": [
      "num results: 143\n",
      "num len(results): 10\n",
      "Hybrid Search Results: [\n",
      "  {\n",
      "    \"id\": \"141\",\n",
      "    \"title\": \"Northwind_Health_Plus_Benefits_Details.md\",\n",
      "    \"content\": \" beyond what is\\nprovided by Workers' Compensation Insurance. These benefits may include disability\\nbenefits, unemployment benefits, or Social Security benefits. It is important for employees\\nto research these options in order to determine if they are eligible for any additional\\nbenefits.\\n\\nWhen an employee is injured or becomes ill, they should contact the Workers'\\nCompensation Insurance provider immediately. The provider will provide the employee\\nwith information on the process and how to file a claim. The provider may also provide\\nadditional resources to help the employee understand their rights and responsibilities.\\n\\nIt is important for employees to remember that Workers' Compensation Insurance is a\\nbenefit that is provided by the employer. It is the employer's responsibility to ensure that\\nemployees are aware of the Workers' Compensation Insurance coverage and to make sure\\nthat employees are taking advantage of the coverage.\\n\\nFinally, it is important for employees to remember that Workers' Compensation Insurance\\ndoes not cover all injuries or illnesses. If an employee has any questions or concerns about\\ntheir coverage, they should contact their employer or the Workers' Compensation\\nInsurance provider for more information.\\n\\n\\n## DEFINITIONS\\n\\n\\n### Definitions\\n\\nIt is important for employees to understand the definitions of certain terms when it comes\\nto their health insurance plan. The following definitions will help employees obtain a better\\nunderstanding of Northwind Health Plus.\\n\\nCopayment: A copayment, also known as a copay, is the fixed amount that an employee pays\\nfor a covered service. This amount is usually a flat fee and is due at the time of service.\\n\\n<!-- PageBreak -->\\n\\nDeductible: A deductible is the amount of money that an employee must pay out-of-pocket\\nbefore the plan begins paying for covered services. Northwind Health Plus has a deductible\\nof $2,000 per year.\\n\\nCoinsurance: Coinsurance is the percentage of the cost of a covered service that an\\nemployee must pay after the deductible is met. Northwind Health Plus has a coinsurance of\\n20%.\\n\\nOut-of-Pocket Maximum: The out-of-pocket maximum is the maximum amount of money\\nthat an employee has to pay for covered services in a plan year. This amount includes the\\ndeductible, coinsurance, and copayments. Northwind Health Plus has an out-of-pocket\\nmaximum of $4,000 per year.\\n\\nIn-Network\",\n",
      "    \"score\": 0.03055555745959282\n",
      "  },\n",
      "  {\n",
      "    \"id\": \"142\",\n",
      "    \"title\": \"Northwind_Health_Plus_Benefits_Details.md\",\n",
      "    \"content\": \",000 per year.\\n\\nCoinsurance: Coinsurance is the percentage of the cost of a covered service that an\\nemployee must pay after the deductible is met. Northwind Health Plus has a coinsurance of\\n20%.\\n\\nOut-of-Pocket Maximum: The out-of-pocket maximum is the maximum amount of money\\nthat an employee has to pay for covered services in a plan year. This amount includes the\\ndeductible, coinsurance, and copayments. Northwind Health Plus has an out-of-pocket\\nmaximum of $4,000 per year.\\n\\nIn-Network Provider: An in-network provider is a health care provider or facility that is\\ncontracted with the insurance company. Employees who use an in-network provider will\\nhave lower copayments and coinsurance amounts than those who use an out-of-network\\nprovider.\\n\\nOut-of-Network Provider: An out-of-network provider is a health care provider or facility\\nthat is not contracted with the insurance company. Employees who use an out-of-network\\nprovider will have higher copayments and coinsurance amounts than those who use an in-\\nnetwork provider.\\n\\nExceptions\\n\\nNorthwind Health Plus does have some exceptions to the rules regarding copayments,\\ndeductibles, coinsurance, and out-of-pocket maximums.\\n\\nPreventive Care: Preventive care services such as annual physicals and vaccinations are\\ncovered at 100% with no copayment, deductible, or coinsurance.\\n\\nPrescription Drugs: Prescription drugs are generally subject to a copayment, and the\\namount varies depending on the type of drug. Generic drugs typically have a lower\\ncopayment than brand-name drugs.\\n\\nMental Health and Substance Abuse Services: These services are subject to a copayment and\\ndeductible. The copayment and deductible amounts can vary depending on the type of\\nservice.\\n\\nEmergency Services: Emergency services are subject to a copayment and deductible, but the\\namount can vary depending on whether the services are received in-network or out-of-\\nnetwork.\\n\\nTips\\n\\n\\u00b7 Always check to see if a provider is in-network or out-of-network before receiving\\nservices.\\n\\n<!-- PageBreak -->\\n\\n\\u00b7 Ask your doctor about generic drugs if you are prescribed a medication.\\n\\n\\u00b7 Contact Northwind\",\n",
      "    \"score\": 0.049180325120687485\n",
      "  },\n",
      "  {\n",
      "    \"id\": \"118\",\n",
      "    \"title\": \"Northwind_Standard_Benefits_Details.md\",\n",
      "    \"content\": \" important to understand that the plan documents are the ultimate\\nauthority for any questions about benefits, coverage, and exclusions.\\n\\nThe plan documents state that the Northwind Standard plan provides coverage for medical,\\nvision, and dental services. This coverage includes preventive care services and prescription\\ndrug coverage. The plan does not provide coverage for emergency services, mental health\\nand substance abuse coverage, or out-of-network services.\\n\\nThe plan documents also include information on how to access care, including a list of in-\\nnetwork providers such as primary care physicians, specialists, hospitals, and pharmacies.\\nAdditionally, the plan documents outline the plan's coordination of benefits and any\\nlimitations or exclusions.\\n\\nIt is important to remember that the plan documents are the ultimate authority for any\\nquestions about benefits, coverage, and exclusions. If there is ever a discrepancy between\\nwhat is stated in the plan documents and what is stated in any other sources, such as\\nNorthwind Health's website or a customer service representative, the plan documents take\\nprecedence.\\n\\n\\n### Tips for Employees\\n\\nWhen it comes to understanding Northwind Standard, the plan documents are everything.\\nHere are a few tips to help employees get the most out of their plan:\\n\\n. Read the plan documents thoroughly and keep them in a safe place.\\n\\n. Make sure to understand what is and what is not covered by the plan.\\n\\n\\u00b7 Familiarize yourself with the list of in-network providers.\\n\\n<!-- PageBreak -->\\n\\n\\u00b7 Be aware of any coordination of benefits that are listed in the plan documents.\\n\\n\\u00b7 Understand any limitations and exclusions that are listed in the plan documents.\\n\\n. Remember that the plan documents take precedence over any other sources of\\ninformation.\\n\\nBy following these tips, employees will be better equipped to make informed decisions\\nabout their health care and get the most out of their Northwind Standard plan.\\n\\nEvidence Of Medical Necessity\\n\\nOTHER INFORMATION ABOUT THIS PLAN\\n\\nEvidence Of Medical Necessity\\n\\nWhen you use Northwind Standard, you must provide evidence of medical necessity for\\ncertain services. This evidence is usually provided by your healthcare provider, and is\\nrequired in order to receive coverage under the plan.\\n\\nExamples of services that require evidence of medical necessity include, but are not limited\\nto, hospital stays, surgery, diagnostic tests, and specialized treatments. This evidence must\\nbe provided to Northwind\",\n",
      "    \"score\": 0.010638297535479069\n",
      "  },\n",
      "  {\n",
      "    \"id\": \"60\",\n",
      "    \"title\": \"Northwind_Standard_Benefits_Details.md\",\n",
      "    \"content\": \" sure that your prescription is covered under the Northwind Standard plan.\\n\\nYou should also be aware that Northwind Standard does not cover over-the-counter\\nmedications, unless they are prescribed by a doctor. If you need to purchase an over-the-\\ncounter medication, you will have to pay for it out of pocket.\\n\\nFinally, always look for generic medications whenever possible. Generic medications are\\ntypically less expensive than brand-name medications, and they are just as effective.\\n\\n<!-- PageBreak -->\\n\\nBy following these tips, you can make sure that you are taking advantage of all the benefits\\nof the Northwind Standard plan. With the right plan in place, you can be sure that you are\\ngetting the best coverage for your medical, dental, vision, and prescription drug needs.\\n\\n\\n### Preventive Care\\n\\nCOVERED SERVICES: Preventive Care\\n\\nAt Northwind Health, preventive care services are covered under the Northwind Standard\\nplan. Preventive care services are a great way to stay on top of your health, and they are\\navailable at no additional cost when you are a part of Northwind Standard.\\n\\nPreventive care services include the following:\\n\\n\\u00b7 Physicals and vaccinations\\n\\n\\u00b7 Health screenings and tests, such as blood pressure, cholesterol and diabetes tests\\n\\n\\u00b7 Counseling, such as lifestyle and nutrition counseling\\n\\n\\u00b7 Immunizations\\n\\n\\u00b7 Vision and hearing screenings\\n\\n\\u00b7 Other preventive services as recommended by the U.S. Preventive Services Task Force\\n\\nPlease note that Northwind Standard does not cover all preventive care services. For\\ninstance, Northwind Standard does not cover cosmetic services or any service that is not\\nmedically necessary.\\n\\nTo make the most of your Northwind Standard plan, here are a few tips:\\n\\n. Be sure to talk to your doctor to find out which screenings, tests, and immunizations you\\nshould get each year.\\n\\n\\u00b7 Know which preventive services are covered by your plan.\\n\\n. Ask your doctor if he or she is in-network with Northwind Health.\\n\\n\\u00b7 Schedule regular physicals and preventive care check-ups.\\n\\n\\u00b7 Take advantage of any wellness programs offered by Northwind Health.\\n\\n\\u00b7 Stay up-to-date on the latest preventive care guidelines.\\n\\nPreventive care services can help you stay healthy and prevent illnesses from developing.\\nWith Northwind Standard, you can take advantage of these important services\",\n",
      "    \"score\": 0.021650327369570732\n",
      "  },\n",
      "  {\n",
      "    \"id\": \"126\",\n",
      "    \"title\": \"Northwind_Standard_Benefits_Details.md\",\n",
      "    \"content\": \".\\n\\n. Be sure to inform your providers of any pre-existing conditions or special circumstances\\nthat could affect your care.\\n\\n. Be sure to stay informed about the plan and your rights and responsibilities as a member\\nof the plan.\\n\\n\\u00b7 Follow up with your provider after receiving care to ensure that all procedures were\\nproperly billed to the plan.\\n\\n\\u00b7 Remember to use any preventive care benefits that your plan offers. These services can\\nhelp you stay healthy and ensure that any issues are caught early.\\n\\n\\u00b7 Remember to contact Northwind Health with any questions you may have about the plan.\\n\\nBy understanding your rights and responsibilities under the plan, as well as the benefits and\\nlimitations of the plan, you can feel confident that you are getting the most out of your\\nNorthwind Standard plan.\\n\\n\\n## Exceptions\\n\\nIt is important to note that while Northwind Standard covers a variety of services, there are\\nsome exceptions. These include emergency services, mental health and substance abuse\\ncoverage, and out-of-network services. If you need any of these services, be sure to contact\\nNorthwind Health to verify coverage.\\n\\nWe hope that this information has been helpful in understanding the plan and your rights\\nand responsibilities as a member of Northwind Standard. For more information, contact\\nNorthwind Health or visit our website.\\n\\n<!-- PageBreak -->\\n\\n\\n## Notice Of Information Use And Disclosure Notice Of Information Use And Disclosure\\n\\nAt Northwind Health, we understand how important it is to protect your personal\\ninformation. As part of that commitment, we abide by the rules of the Health Insurance\\nPortability and Accountability Act (HIPAA), which regulates the use and disclosure of\\nprotected health information. This includes your medical records, payment records, and\\nother information related to your health care.\\n\\nUnder the HIPAA Privacy Rule, Northwind Health may use and disclose your protected\\nhealth information for treatment, payment, and health care operations. These activities\\ninclude providing you with care, billing you for services, analyzing the performance of our\\nhealth care services, and improving the services we provide.\\n\\nHowever, we may also use and disclose your protected health information for other\\npurposes if we have obtained your written authorization. This includes any use or\\ndisclosure that is not for treatment, payment, or health care operations. Examples of non-\\nhealth care uses and disclosures include marketing, fundraising, and research activities.\",\n",
      "    \"score\": 0.041839390993118286\n",
      "  },\n",
      "  {\n",
      "    \"id\": \"143\",\n",
      "    \"title\": \"Northwind_Health_Plus_Benefits_Details.md\",\n",
      "    \"content\": \" are subject to a copayment and\\ndeductible. The copayment and deductible amounts can vary depending on the type of\\nservice.\\n\\nEmergency Services: Emergency services are subject to a copayment and deductible, but the\\namount can vary depending on whether the services are received in-network or out-of-\\nnetwork.\\n\\nTips\\n\\n\\u00b7 Always check to see if a provider is in-network or out-of-network before receiving\\nservices.\\n\\n<!-- PageBreak -->\\n\\n\\u00b7 Ask your doctor about generic drugs if you are prescribed a medication.\\n\\n\\u00b7 Contact Northwind Health if you have any questions about your coverage or benefits.\\n\\n\\u00b7 Keep track of your out-of-pocket expenses to ensure you do not exceed the out-of-pocket\\nmaximum.\\n\\n. Be aware of any copayments, deductibles, and coinsurance amounts that apply to your\\nhealth care services.\\n\\n\\u00b7 Take advantage of preventive care services as they are covered at 100% with no out-of-\\npocket costs.\\n\",\n",
      "    \"score\": 0.022153127938508987\n",
      "  },\n",
      "  {\n",
      "    \"id\": \"61\",\n",
      "    \"title\": \"Northwind_Standard_Benefits_Details.md\",\n",
      "    \"content\": \" doctor to find out which screenings, tests, and immunizations you\\nshould get each year.\\n\\n\\u00b7 Know which preventive services are covered by your plan.\\n\\n. Ask your doctor if he or she is in-network with Northwind Health.\\n\\n\\u00b7 Schedule regular physicals and preventive care check-ups.\\n\\n\\u00b7 Take advantage of any wellness programs offered by Northwind Health.\\n\\n\\u00b7 Stay up-to-date on the latest preventive care guidelines.\\n\\nPreventive care services can help you stay healthy and prevent illnesses from developing.\\nWith Northwind Standard, you can take advantage of these important services, which are\\ncovered at no additional cost.\\n\\n<!-- PageBreak -->\\n\\nRemember, preventive care is an important part of your overall health. Northwind Health is\\ndedicated to helping you get the preventive care you need to stay healthy and protect\\nyourself for the future.\\n\\nProfessional Visits And Services\\n\\nCOVERED SERVICES: Professional Visits and Services\\n\\nNorthwind Standard provides coverage for professional visits and services. This includes\\nvisits to your primary care physician, specialists, and other health care providers. This\\ncoverage is available for services that are medically necessary and are provided by in-\\nnetwork providers.\\n\\nIn-network providers will generally provide services at a lower cost than out-of-network\\nproviders, so it is important to check with Northwind Health before making an appointment\\nto ensure that the provider is in-network. This can help you save money and avoid\\nunexpected costs.\\n\\nThe Northwind Standard plan covers services such as:\\n\\n\\\\- Preventive care services, including physicals, immunizations, and screenings\\n\\n\\\\- Diagnostic tests and treatments\\n\\n\\\\- Medical consultations\\n\\n\\\\- Physical therapy\\n\\n\\\\- Mental health services\\n\\n\\\\- Prescription drugs\\n\\n\\\\- Inpatient hospital services\\n\\n\\\\- Emergency services\\n\\nNorthwind Standard does not cover certain types of services, including cosmetic services,\\nexperimental treatments, and most dental services. It also does not cover services provided\\nby out-of-network providers.\\n\\nWhen using your Northwind Standard plan, it is important to understand your coverage and\\nany costs that you may be responsible for. Northwind Health offers a variety of tools and\\nresources to help you make the most of your coverage, including a cost estimator tool and a\\nprovider directory. Northwind also offers 24/7 customer service to answer any questions\",\n",
      "    \"score\": 0.023448774591088295\n",
      "  },\n",
      "  {\n",
      "    \"id\": \"50\",\n",
      "    \"title\": \"Northwind_Standard_Benefits_Details.md\",\n",
      "    \"content\": \"\\nas prescription drugs.\\n\\nIt is important to note that Northwind Standard does not cover food items that are not\\nspecifically prescribed as medical foods. This includes food items that are not used to treat a\\nspecific medical condition, as well as food items that are used for general nutrition.\\n\\nTips for Employees\\n\\n1\\\\. Be sure to speak with your doctor about whether or not a medical food would be\\nbeneficial for your condition.\\n\\n2\\\\. Make sure you get a prescription for a medical food from your doctor so that it can be\\ncovered by your insurance plan.\\n\\n3\\\\. Ask your doctor or pharmacist if there are any generic or over-the-counter options\\navailable that are covered by your insurance plan.\\n\\n4\\\\. If you are considering purchasing a medical food without a prescription, be sure to check\\nwith your insurance provider to make sure it is covered.\\n\\n5\\\\. If you have any questions about coverage or benefits, be sure to contact your insurance\\nprovider.\\n\\nMedical Transportation\\nCOVERED SERVICES: Medical Transportation\\n\\nAt Northwind Health, our Northwind Standard plan includes coverage for medical\\ntransportation. This includes coverage for transportation to and from medical\\nappointments, as well as emergency transportation to the nearest medical facility.\\n\\nThis coverage will help ensure that employees can get the medical care they need without\\nworrying about how they will get there. Northwind Health will provide coverage for\\ntransportation expenses, such as gas, public transportation fares, or taxi/rideshare services.\\n\\nIn order to receive reimbursement for transportation expenses, employees must present a\\nvalid invoice to Northwind Health. This invoice must include the date, time, and place of\\nservice, as well as the cost of transportation. Please note that Northwind Health will only\\nreimburse up to the cost of the lowest available fare.\\n\\nIt's important to note that Northwind Standard does not cover ambulance services. This is\\nbecause ambulance services are usually for emergency medical transportation, which is not\\ncovered by this plan. However, if a doctor prescribes ambulance services for medical\\nreasons, Northwind Health may cover the cost.\\n\\nHere are some tips for employees to keep in mind when using medical transportation\\ncoverage:\\n\\n<!-- PageBreak -->\\n\\n. Make sure to keep all receipts and invoices in case you need to submit them for\\nreimbursement.\\n\\n\\u00b7 Contact Northwind\",\n",
      "    \"score\": 0.010204081423580647\n",
      "  },\n",
      "  {\n",
      "    \"id\": \"138\",\n",
      "    \"title\": \"Northwind_Standard_Benefits_Details.md\",\n",
      "    \"content\": \" and job placement\\nassistance.\\n\\n\\u00b7 Death benefits: This includes a lump sum payment to the surviving spouse or dependents\\nin the event of a work-related death.\\n\\nIn order to receive these benefits, employees must report the injury or illness to their\\nsupervisor as soon as possible. Employees must also submit a written claim to their\\nemployer within one year of the injury or illness.\\n\\nIt's important to note that Workers' Compensation Insurance does not cover injuries or\\nillnesses that are not work-related. This includes injuries that occur during lunch breaks, on\\nthe commute to and from work, or during leisure activities.\\n\\nEmployees should also be aware that benefits are limited to the amount of coverage\\npurchased by the employer. If the cost of medical treatment exceeds the amount of coverage\\npurchased, the employee may be responsible for the remaining balance.\\n\\nFinally, employees should be aware that Workers' Compensation Insurance is regulated by\\nstate and federal laws. Depending on the state, employees may have the right to receive\\nlegal representation or to appeal denied claims. In some states, employees may have the\\nright to choose their own physician or to receive benefits for permanent disabilities.\\n\\nAt Contoso, we are committed to providing our employees with a safe and productive work\\nenvironment, and we take the necessary steps to ensure that our Workers' Compensation\\nInsurance coverage meets all state and federal requirements. Should you have any\\nquestions about this coverage, please contact the Human Resources Department.\\n\\n\\n# DEFINITIONS DEFINITIONS\\n\\nWhen it comes to understanding the Northwind Standard insurance plan, it is important to\\nunderstand the various terms and definitions associated with this plan. Here is a\\n\\n<!-- PageBreak -->\\n\\nbreakdown of some of the key terms and definitions associated with the Northwind\\nStandard insurance plan.\\n\\nIn-Network Provider: An in-network provider is a healthcare provider that has a contract\\nwith Northwind Health and is included in the network of providers who are eligible to\\nreceive payments from Northwind Health. This includes primary care physicians,\\nspecialists, hospitals, and pharmacies.\\n\\nOut-of-Network Provider: An out-of-network provider is a healthcare provider that is not\\nincluded in the Northwind Health network and is not eligible to receive payments from\\nNorthwind Health. Out-of-network providers are not covered by Northwind Standard.\\n\\nPre\",\n",
      "    \"score\": 0.009803921915590763\n",
      "  },\n",
      "  {\n",
      "    \"id\": \"117\",\n",
      "    \"title\": \"Northwind_Standard_Benefits_Details.md\",\n",
      "    \"content\": \" the requirements established\\nby the ACA and provides minimum essential coverage to all eligible employees.\\n\\nTips For Employees\\n\\nEmployees should make sure they understand their rights and responsibilities under the\\nlaw when it comes to their employer-provided health insurance plan. Here are a few tips\\nemployees should keep in mind:\\n\\n\\u00b7 Be aware of the terms of your health plan: it's important to understand how your plan\\nworks and what it covers.\\n\\n. Keep track of any changes to the plan: employers are required to provide employees with\\nnotice of any material changes to the plan.\\n\\n\\u00b7 Know your rights under COBRA: if you lose your job or otherwise qualify for COBRA, you\\nmay be able to continue your coverage for a certain period of time.\\n\\n<!-- PageBreak -->\\n\\n\\u00b7 Understand your rights under HIPAA: you have the right to access your health information\\nand correct any inaccurate information.\\n\\n. Make sure you understand the requirements of the ACA: if you're eligible, your employer\\nmust offer you minimum essential coverage or face a penalty.\\n\\nFollowing the law is an important part of employee benefits, and Contoso and Northwind\\nHealth strive to ensure that the Northwind Standard plan is in compliance with all\\napplicable laws. Employees should make sure they understand their rights and\\nresponsibilities under the law when it comes to their employer-provided health insurance\\nplan. With Northwind Standard, you can be sure that you're getting the coverage you need\\nand that you're in compliance with the law.\\n\\nEntire Contract\\n\\nOTHER INFORMATION ABOUT THIS PLAN: Entire Contract\\n\\nThe Northwind Standard plan is a contract between the employee and Northwind Health.\\nBy enrolling in the plan, the employee agrees to all of the terms and conditions included in\\nthe plan documents. It is important to understand that the plan documents are the ultimate\\nauthority for any questions about benefits, coverage, and exclusions.\\n\\nThe plan documents state that the Northwind Standard plan provides coverage for medical,\\nvision, and dental services. This coverage includes preventive care services and prescription\\ndrug coverage. The plan does not provide coverage for emergency services, mental health\\nand substance abuse coverage, or out-of-network services.\\n\\nThe plan documents also include information on how to access care, including a list of in-\\nnetwork providers such as primary care physicians, specialists, hospitals, and pharmacies.\\nAdditionally, the plan\",\n",
      "    \"score\": 0.011904762126505375\n",
      "  }\n",
      "]\n"
     ]
    }
   ],
   "source": [
    "# Generate the query for the question\n",
    "question = \"What is included in my Northwind Health Plus plan?\"\n",
    "\n",
    "# Hybrid search\n",
    "results, num_results = semantic_hybrid_search(ai_search_config[\"ai_search_client_docs\"],\n",
    "                                              openai_config[\"openai_client\"],\n",
    "                                              openai_config[\"aoai_embedding_model\"],\n",
    "                                              question, 10)\n",
    "print(f\"num results: {num_results}\")\n",
    "print(f\"num len(results): {len(results)}\")\n",
    "show_results(results, question)\n"
   ]
  },
  {
   "cell_type": "markdown",
   "metadata": {},
   "source": [
    "#### Filter the chunks compared with the user's question and Generate the answer using the relevant chunks as context"
   ]
  },
  {
   "cell_type": "code",
   "execution_count": 4,
   "metadata": {},
   "outputs": [
    {
     "name": "stdout",
     "output_type": "stream",
     "text": [
      "num valid chunks: 2\n",
      "\n",
      "Calling Azure OpenAI model gpt-4o...\n",
      "\n",
      ">> Answer:\n",
      "Your Northwind Health Plus plan includes the following key components:\n",
      "\n",
      "- **Copayment**: A fixed amount you pay for a covered service at the time of service.\n",
      "- **Deductible**: $2,000 per year, which is the amount you must pay out-of-pocket before the plan starts covering services.\n",
      "- **Coinsurance**: 20% of the cost of a covered service after meeting the deductible.\n",
      "- **Out-of-Pocket Maximum**: $4,000 per year, which includes the deductible, coinsurance, and copayments.\n",
      "\n",
      "**Provider Network**:\n",
      "- **In-Network Provider**: Lower copayments and coinsurance.\n",
      "- **Out-of-Network Provider**: Higher copayments and coinsurance.\n",
      "\n",
      "**Exceptions**:\n",
      "- **Preventive Care**: Covered at 100% with no copayment, deductible, or coinsurance.\n",
      "- **Prescription Drugs**: Subject to a copayment, varying by drug type.\n",
      "- **Mental Health and Substance Abuse Services**: Subject to a copayment and deductible.\n",
      "- **Emergency Services**: Subject to a copayment and deductible, varying by network status.\n",
      "\n",
      "Always verify if a provider is in-network and consider generic drugs for prescriptions.\n"
     ]
    }
   ],
   "source": [
    "# Valid chunks for the user question\n",
    "valid_chunks, num_chunks = get_filtered_chunks(openai_config[\"openai_client\"],\n",
    "                                               openai_config[\"aoai_rerank_model\"],\n",
    "                                               results,\n",
    "                                               question)\n",
    "print(f\"num valid chunks: {num_chunks}\")\n",
    "\n",
    "# Generate answer:\n",
    "answer = generate_answer(openai_config[\"openai_client\"],\n",
    "                         openai_config[\"aoai_deployment_name\"],\n",
    "                                       valid_chunks,\n",
    "                                       question)\n",
    "print(f\"\\n>> Answer:\\n{answer}\")\n"
   ]
  },
  {
   "cell_type": "code",
   "execution_count": null,
   "metadata": {},
   "outputs": [],
   "source": [
    "## End-to-end process:\n",
    "\n",
    "question = \"What is included in my Northwind Health Plus plan?\"\n",
    "print(f'Question: {question}')\n",
    "\n",
    "# Hybrid search with Semantic ranker\n",
    "results, num_results = semantic_hybrid_search(ai_search_config[\"ai_search_client_docs\"],\n",
    "                                              openai_config[\"openai_client\"],\n",
    "                                              openai_config[\"aoai_embedding_model\"],\n",
    "                                              question, 50)\n",
    "print(f\"num results: {num_results}\")\n",
    "show_results(results, question)\n",
    "\n",
    "# Filter valid chunks for the user question\n",
    "valid_chunks, num_chunks = get_filtered_chunks(openai_config[\"openai_client\"],\n",
    "                                               openai_config[\"aoai_rerank_model\"],\n",
    "                                               results, question)\n",
    "\n",
    "# Generate answer:\n",
    "answer = generate_answer(openai_config[\"openai_client\"],\n",
    "                         openai_config[\"aoai_deployment_name\"],\n",
    "                         valid_chunks, question)\n",
    "print(f\"\\n>> Answer: {answer}\")"
   ]
  }
 ],
 "metadata": {
  "kernelspec": {
   "display_name": "Python 3",
   "language": "python",
   "name": "python3"
  },
  "language_info": {
   "codemirror_mode": {
    "name": "ipython",
    "version": 3
   },
   "file_extension": ".py",
   "mimetype": "text/x-python",
   "name": "python",
   "nbconvert_exporter": "python",
   "pygments_lexer": "ipython3",
   "version": "3.12.10"
  }
 },
 "nbformat": 4,
 "nbformat_minor": 2
}
