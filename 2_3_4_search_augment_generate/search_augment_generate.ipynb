{
 "cells": [
  {
   "cell_type": "markdown",
   "metadata": {},
   "source": [
    "# Phase 2, 3 and 4: Search, Augment and Generate the Answer\n",
    "In this notebook there are several parts:\n",
    "- Import libraries, load configuration variables and create clients\n",
    "- Hybrid search with Semantic ranker\n",
    "- Filter the chunks leaving the most relevant compared with the user's question\n",
    "- Generate the answer for the query using the most relevante chunks as the context"
   ]
  },
  {
   "cell_type": "markdown",
   "metadata": {},
   "source": [
    "### Import libraries, load configuration variables and create clients"
   ]
  },
  {
   "cell_type": "code",
   "execution_count": null,
   "metadata": {},
   "outputs": [],
   "source": [
    "#%pip install python-dotenv\n",
    "#%pip install openai\n",
    "#%pip install tiktoken\n",
    "#%pip install azure-search-documents"
   ]
  },
  {
   "cell_type": "code",
   "execution_count": null,
   "metadata": {},
   "outputs": [
    {
     "name": "stdout",
     "output_type": "stream",
     "text": [
      "aoai_endpoint: https://openai-asc-swit-north.openai.azure.com/\n",
      "aoai_deployment_name: gpt-4o\n",
      "oai_embedding_model: ada\n",
      "aoai_rerank_model: gpt-4o-mini\n",
      "ai_search_index_name_regs: rag-index-regs2\n",
      "ai_search_index_name_docs: rag-index-docs2\n"
     ]
    }
   ],
   "source": [
    "# Import libraries\n",
    "import os\n",
    "import sys\n",
    "import json\n",
    "import time\n",
    "import pandas as pd\n",
    "from dotenv import load_dotenv, find_dotenv\n",
    "from openai import AzureOpenAI\n",
    "\n",
    "sys.path.append(os.path.abspath('..'))\n",
    "from common_utils import *\n",
    "\n",
    "# Load Azure OpenAI and AI Search variables and create clients\n",
    "openai_config, ai_search_config = load_config()\n"
   ]
  },
  {
   "cell_type": "markdown",
   "metadata": {},
   "source": [
    "### Search in AI Search with hybrid (keyword and vector searches) with semantic ranker"
   ]
  },
  {
   "cell_type": "code",
   "execution_count": null,
   "metadata": {},
   "outputs": [],
   "source": [
    "# Generate the query for the question\n",
    "question = \"What is included in my Northwind Health Plus plan?\"\n",
    "\n",
    "# Hybrid search\n",
    "results, num_results = semantic_hybrid_search(ai_search_config[\"ai_search_client_docs\"],\n",
    "                                              openai_config[\"openai_client\"],\n",
    "                                              openai_config[\"aoai_embedding_model\"],\n",
    "                                              question, 10)\n",
    "print(f\"num results: {num_results}\")\n",
    "print(f\"num len(results): {len(results)}\")\n",
    "show_results(results, question)\n"
   ]
  },
  {
   "cell_type": "markdown",
   "metadata": {},
   "source": [
    "#### Filter the chunks compared with the user's question and Generate the answer using the relevant chunks as context"
   ]
  },
  {
   "cell_type": "code",
   "execution_count": null,
   "metadata": {},
   "outputs": [],
   "source": [
    "# Valid chunks for the user question\n",
    "valid_chunks, num_chunks = get_filtered_chunks(openai_config[\"openai_client\"],\n",
    "                                               openai_config[\"aoai_rerank_model\"],\n",
    "                                               results,\n",
    "                                               question)\n",
    "print(f\"num valid chunks: {num_chunks}\")\n",
    "\n",
    "# Generate answer:\n",
    "answer = generate_answer(openai_config[\"openai_client\"],\n",
    "                         openai_config[\"aoai_deployment_name\"],\n",
    "                                       valid_chunks,\n",
    "                                       question)\n",
    "print(f\"\\n>> Answer:\\n{answer}\")\n"
   ]
  },
  {
   "cell_type": "code",
   "execution_count": null,
   "metadata": {},
   "outputs": [],
   "source": [
    "## End-to-end process:\n",
    "\n",
    "question = \"What is included in my Northwind Health Plus plan?\"\n",
    "print(f'Question: {question}')\n",
    "\n",
    "# Hybrid search with Semantic ranker\n",
    "results, num_results = semantic_hybrid_search(ai_search_config[\"ai_search_client_docs\"],\n",
    "                                              openai_config[\"openai_client\"],\n",
    "                                              openai_config[\"aoai_embedding_model\"],\n",
    "                                              question, 50)\n",
    "print(f\"num results: {num_results}\")\n",
    "show_results(results, question)\n",
    "\n",
    "# Filter valid chunks for the user question\n",
    "valid_chunks, num_chunks = get_filtered_chunks(openai_config[\"openai_client\"],\n",
    "                                               openai_config[\"aoai_rerank_model\"],\n",
    "                                               results, question)\n",
    "\n",
    "# Generate answer:\n",
    "answer = generate_answer(openai_config[\"openai_client\"],\n",
    "                         openai_config[\"aoai_deployment_name\"],\n",
    "                         valid_chunks, question)\n",
    "print(f\"\\n>> Answer: {answer}\")"
   ]
  }
 ],
 "metadata": {
  "kernelspec": {
   "display_name": "Python 3",
   "language": "python",
   "name": "python3"
  },
  "language_info": {
   "codemirror_mode": {
    "name": "ipython",
    "version": 3
   },
   "file_extension": ".py",
   "mimetype": "text/x-python",
   "name": "python",
   "nbconvert_exporter": "python",
   "pygments_lexer": "ipython3",
   "version": "3.12.10"
  }
 },
 "nbformat": 4,
 "nbformat_minor": 2
}
